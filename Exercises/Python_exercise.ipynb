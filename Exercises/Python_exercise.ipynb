{
 "cells": [
  {
   "cell_type": "markdown",
   "id": "91c7feaf",
   "metadata": {},
   "source": [
    "# Python Exercise"
   ]
  },
  {
   "cell_type": "markdown",
   "id": "3ee26f81",
   "metadata": {},
   "source": [
    "This exercise will revise python's fundamentals. It is recommended to see this [reference](https://lectures.scientific-python.org/index.html) if you feel stuck.\n",
    "\n",
    "___\n",
    "## Data types In Python\n",
    "\n",
    "**1. convert data type from int to float and vice versa.**\n",
    "\n",
    "NOTE: Python's inbuilt data type can be checked with a function, `type()`."
   ]
  },
  {
   "cell_type": "code",
   "execution_count": null,
   "id": "f5097a9f",
   "metadata": {},
   "outputs": [],
   "source": [
    "# Here's the example. \n",
    "a = 4           # This line is a variable assignment. This sets a to 4.\n",
    "type(a)         # This will return the data type of a"
   ]
  },
  {
   "cell_type": "code",
   "execution_count": null,
   "id": "b3f653e1",
   "metadata": {},
   "outputs": [],
   "source": [
    "## YOUR SOLUTION\n",
    "\n"
   ]
  },
  {
   "cell_type": "markdown",
   "id": "a8f550dc",
   "metadata": {},
   "source": [
    "**2. Create a complex number and convert real and imaginary parts to floats**"
   ]
  },
  {
   "cell_type": "code",
   "execution_count": null,
   "id": "f58cb031",
   "metadata": {},
   "outputs": [],
   "source": [
    "## YOUR SOLUTION\n",
    "\n"
   ]
  },
  {
   "cell_type": "markdown",
   "id": "0caf3fb3",
   "metadata": {},
   "source": [
    "___"
   ]
  },
  {
   "cell_type": "markdown",
   "id": "576d1ad1",
   "metadata": {},
   "source": [
    "## Containers in Python\n",
    "\n",
    "**3. Create a list of elements of different data type, with at least 5 elements**"
   ]
  },
  {
   "cell_type": "code",
   "execution_count": null,
   "id": "b64b3ec4",
   "metadata": {},
   "outputs": [],
   "source": [
    "## YOUR SOLUTION \n",
    "\n",
    "list = []"
   ]
  },
  {
   "cell_type": "markdown",
   "id": "d4d030fa",
   "metadata": {},
   "source": [
    "**4. List access and manipulation.**        \n",
    "    (A). Access and print 3rd element of the list.        \n",
    "    (B). Mutate the 4th element to something else.    \n",
    "    (C). Print last element 2 with negative indexing.   \n",
    "    (D). Print every 2nd element."
   ]
  },
  {
   "cell_type": "code",
   "execution_count": null,
   "id": "e38c3680",
   "metadata": {},
   "outputs": [],
   "source": [
    "## YOUR SOLUTION\n",
    "# A.\n",
    "\n",
    "\n",
    "\n",
    "# B.\n",
    "\n",
    "\n",
    "\n",
    "# C.\n",
    "\n",
    "\n",
    "\n",
    "# D.\n",
    "\n"
   ]
  },
  {
   "cell_type": "markdown",
   "id": "620abbe7",
   "metadata": {},
   "source": [
    "**5. Create a dictionary with at least 5 key and value pairs**"
   ]
  },
  {
   "cell_type": "code",
   "execution_count": null,
   "id": "1b6370e3",
   "metadata": {},
   "outputs": [],
   "source": [
    "## YOUR SOLUTION\n",
    "dict1 = {}\n",
    "\n"
   ]
  },
  {
   "cell_type": "markdown",
   "id": "a8b544f7",
   "metadata": {},
   "source": [
    "**6. Access keys and values of a dictionary**"
   ]
  },
  {
   "cell_type": "code",
   "execution_count": null,
   "id": "a520ed0b",
   "metadata": {},
   "outputs": [],
   "source": [
    "## YOUR SOLUTION\n",
    "\n"
   ]
  },
  {
   "cell_type": "markdown",
   "id": "80c7daee",
   "metadata": {},
   "source": [
    "**7. How are tuples different from list?**   \n",
    "    \n",
    "**Answer:**"
   ]
  },
  {
   "cell_type": "markdown",
   "id": "627a5060",
   "metadata": {},
   "source": [
    "**8. Compare lists and return true if they are true otherwise false.**"
   ]
  },
  {
   "cell_type": "code",
   "execution_count": null,
   "id": "9072f321",
   "metadata": {},
   "outputs": [],
   "source": [
    "list1 = [1, 2, 3, 4, 5, 6, 7, 8]\n",
    "list2 = [1, 2, 3, 4, 5, 6, 7, 8]\n",
    "list3 = [1, 2, 3, 4, 5, 50, 7, 8]\n",
    "\n",
    "## YOUR SOLUTION\n"
   ]
  },
  {
   "cell_type": "markdown",
   "id": "ab606eb6",
   "metadata": {},
   "source": [
    "___"
   ]
  },
  {
   "cell_type": "markdown",
   "id": "5592b54b",
   "metadata": {},
   "source": [
    "## Control Flow\n",
    "\n",
    "**9. Do 8 again but now with loops.**"
   ]
  },
  {
   "cell_type": "code",
   "execution_count": null,
   "id": "ebc36a1c",
   "metadata": {},
   "outputs": [],
   "source": [
    "# COMPLETE THE CODE ...\n",
    "\n",
    "for i in range():               # Range here\n",
    "    if                          # Conditional here\n",
    "        print(False)\n",
    "        break\n",
    "\n",
    "    if                          # Conditional here\n",
    "        print(True)"
   ]
  },
  {
   "cell_type": "markdown",
   "id": "84e52a19",
   "metadata": {},
   "source": [
    "This next block is a function is definition of terms in wallis formula for approximation of $\\pi$ now use this that to approximate pi with for loop.\n",
    "$$\n",
    "\n",
    "\\pi = 2 \\prod_{n=1}^{\\infty} \\left( \\frac{4n^2}{4n^2 - 1} \\right)\n",
    "\n",
    "$$"
   ]
  },
  {
   "cell_type": "code",
   "execution_count": null,
   "id": "c3ad154f",
   "metadata": {},
   "outputs": [],
   "source": [
    "def pi_terms(n):\n",
    "    term = 4*(n*n) / (4*(n*n) - 1)\n",
    "    return term"
   ]
  },
  {
   "cell_type": "code",
   "execution_count": null,
   "id": "b070b8ba",
   "metadata": {},
   "outputs": [],
   "source": [
    "pie = 1                             # Name `pi` can conflict with pi in python so I have to come up with pie.\n",
    "for i in range():                   # Complete the code\n",
    "    pass"
   ]
  },
  {
   "cell_type": "markdown",
   "id": "914803ff",
   "metadata": {},
   "source": [
    "**10. Loop through the dictionary you created earlier.**        \n",
    "HINT: You will need two iterator in the for loop for this"
   ]
  },
  {
   "cell_type": "code",
   "execution_count": null,
   "id": "96323072",
   "metadata": {},
   "outputs": [],
   "source": [
    "## YOUR SOLUTION\n",
    "\n"
   ]
  },
  {
   "cell_type": "markdown",
   "id": "d4cf3e50",
   "metadata": {},
   "source": [
    "**11. Create a list of elements from 0 to 1000 but only odd values**    \n",
    "HINT: Use List Comprehensions   "
   ]
  },
  {
   "cell_type": "code",
   "execution_count": null,
   "id": "1f4f334c",
   "metadata": {},
   "outputs": [],
   "source": [
    "## YOUR SOLUTION\n",
    "\n"
   ]
  },
  {
   "cell_type": "markdown",
   "id": "c39031c8",
   "metadata": {},
   "source": [
    "___"
   ]
  },
  {
   "cell_type": "markdown",
   "id": "b3ccc7e7",
   "metadata": {},
   "source": [
    "## Functions\n",
    "\n",
    "You have already seen function but here we will go through some basics."
   ]
  },
  {
   "cell_type": "markdown",
   "id": "46019200",
   "metadata": {},
   "source": [
    "**12. Generate a function that will returns a electrostatic attraction given the charges and distances**    \n",
    "TIP: Defines constants such that they can not be manipulated.   \n",
    "TIP: Also write appropriate doc string for your function."
   ]
  },
  {
   "cell_type": "code",
   "execution_count": null,
   "id": "f1756ab7",
   "metadata": {},
   "outputs": [],
   "source": [
    "## COMPLETE THE CODE... \n",
    "\n",
    "def coulomb(charge1, charge2, distance):\n",
    "    pass"
   ]
  },
  {
   "cell_type": "code",
   "execution_count": null,
   "id": "7503722c",
   "metadata": {},
   "outputs": [],
   "source": [
    "## TEST THE FUNCTION\n",
    "\n",
    "\n"
   ]
  },
  {
   "cell_type": "markdown",
   "id": "79eefaca",
   "metadata": {},
   "source": [
    "___"
   ]
  },
  {
   "cell_type": "markdown",
   "id": "19aa9dda",
   "metadata": {},
   "source": [
    "## Object-oriented programming"
   ]
  },
  {
   "cell_type": "markdown",
   "id": "9b06af67",
   "metadata": {},
   "source": [
    "\n",
    "### 1. Create a class called `Pet`\n",
    "- Attributes: `name`, `age`, `species`\n",
    "- Method: `speak()` — returns a string `\"I am a pet!\"`\n",
    "\n",
    "### 2. Create subclasses\n",
    "**`Dog` (inherits from `Pet`)**\n",
    "- Extra attribute: `breed`\n",
    "- Override the `speak()` method to return:  \n",
    "  `\"Woof! I am a dog.\"`\n",
    "\n",
    "**`Cat` (inherits from `Pet`)**\n",
    "- Override the `speak()` method to return:  \n",
    "  `\"Meow! I am a cat.\"`"
   ]
  },
  {
   "cell_type": "code",
   "execution_count": null,
   "id": "0a797923",
   "metadata": {},
   "outputs": [],
   "source": [
    "## YOUR CODE HERE\n",
    "\n",
    "\n"
   ]
  },
  {
   "cell_type": "code",
   "execution_count": null,
   "id": "8c4fb23b",
   "metadata": {},
   "outputs": [],
   "source": [
    "## TEST YOUR CLASS\n",
    "\n",
    "\n"
   ]
  },
  {
   "cell_type": "markdown",
   "id": "ca6e783c",
   "metadata": {},
   "source": [
    "__________________________"
   ]
  }
 ],
 "metadata": {
  "kernelspec": {
   "display_name": "venv",
   "language": "python",
   "name": "python3"
  },
  "language_info": {
   "codemirror_mode": {
    "name": "ipython",
    "version": 3
   },
   "file_extension": ".py",
   "mimetype": "text/x-python",
   "name": "python",
   "nbconvert_exporter": "python",
   "pygments_lexer": "ipython3",
   "version": "3.13.5"
  }
 },
 "nbformat": 4,
 "nbformat_minor": 5
}
